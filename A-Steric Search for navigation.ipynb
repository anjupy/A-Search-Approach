{
 "cells": [
  {
   "cell_type": "code",
   "execution_count": 9,
   "id": "6383b27a",
   "metadata": {},
   "outputs": [
    {
     "name": "stdout",
     "output_type": "stream",
     "text": [
      "Shortest Path: [(0, 0), (1, 0), (1, 1), (1, 2), (2, 2)]\n"
     ]
    }
   ],
   "source": [
    "import heapq\n",
    "\n",
    "class Graph:\n",
    "    def __init__(self):\n",
    "        self.edges = {}\n",
    "\n",
    "    def add_edge(self, start, end, cost):\n",
    "        if start not in self.edges:\n",
    "            self.edges[start] = []\n",
    "        self.edges[start].append((end, cost))\n",
    "\n",
    "def heuristic(node, goal):\n",
    "    # Euclidean distance heuristic\n",
    "    return ((node[0] - goal[0])**2 + (node[1] - goal[1])**2)**0.5\n",
    "\n",
    "def astar(graph, start, goal):\n",
    "    open_list = [(0, start)]\n",
    "    came_from = {}\n",
    "    g_score = {node: float('inf') for node in graph.edges.keys()}\n",
    "    g_score[start] = 0\n",
    "    f_score = {node: float('inf') for node in graph.edges.keys()}\n",
    "    f_score[start] = heuristic(start, goal)\n",
    "\n",
    "    while open_list:\n",
    "        current_cost, current_node = heapq.heappop(open_list)\n",
    "        if current_node == goal:\n",
    "            path = []\n",
    "            while current_node in came_from:\n",
    "                path.append(current_node)\n",
    "                current_node = came_from[current_node]\n",
    "            path.append(start)\n",
    "            return path[::-1]\n",
    "\n",
    "        if current_node not in graph.edges:\n",
    "            continue\n",
    "\n",
    "        for neighbor, cost in graph.edges[current_node]:\n",
    "            tentative_g_score = g_score[current_node] + cost\n",
    "            if tentative_g_score < g_score.get(neighbor, float('inf')):\n",
    "                came_from[neighbor] = current_node\n",
    "                g_score[neighbor] = tentative_g_score\n",
    "                f_score[neighbor] = tentative_g_score + heuristic(neighbor, goal)\n",
    "                heapq.heappush(open_list, (f_score[neighbor], neighbor))\n",
    "\n",
    "    return None  # No path found\n",
    "\n",
    "if __name__ == \"__main__\":\n",
    "    #  graph representing intersections and streets with distances\n",
    "    city_map = Graph()\n",
    "    city_map.add_edge((0, 0), (1, 0), 2)\n",
    "    city_map.add_edge((0, 0), (0, 1), 3)\n",
    "    city_map.add_edge((1, 0), (2, 0), 4)\n",
    "    city_map.add_edge((0, 1), (0, 2), 5)\n",
    "    city_map.add_edge((1, 0), (1, 1), 5)\n",
    "    city_map.add_edge((0, 2), (1, 2), 2)\n",
    "    city_map.add_edge((1, 1), (1, 2), 1)\n",
    "    city_map.add_edge((1, 2), (2, 2), 3)\n",
    "\n",
    "    #  start and goal nodes\n",
    "    start_node = (0, 0)\n",
    "    goal_node = (2, 2)\n",
    "\n",
    "    # Find the shortest path using A* search\n",
    "    shortest_path = astar(city_map, start_node, goal_node)\n",
    "    print(\"Shortest Path:\", shortest_path)\n"
   ]
  },
  {
   "cell_type": "code",
   "execution_count": null,
   "id": "86bb6d68",
   "metadata": {},
   "outputs": [],
   "source": []
  }
 ],
 "metadata": {
  "kernelspec": {
   "display_name": "Python 3 (ipykernel)",
   "language": "python",
   "name": "python3"
  },
  "language_info": {
   "codemirror_mode": {
    "name": "ipython",
    "version": 3
   },
   "file_extension": ".py",
   "mimetype": "text/x-python",
   "name": "python",
   "nbconvert_exporter": "python",
   "pygments_lexer": "ipython3",
   "version": "3.9.12"
  }
 },
 "nbformat": 4,
 "nbformat_minor": 5
}
